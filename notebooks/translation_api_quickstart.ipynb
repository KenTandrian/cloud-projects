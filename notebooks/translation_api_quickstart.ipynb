{
  "cells": [
    {
      "cell_type": "markdown",
      "source": [
        "# Google Cloud Translation API"
      ],
      "metadata": {
        "id": "zugkd_pJWGad"
      },
      "id": "zugkd_pJWGad"
    },
    {
      "cell_type": "code",
      "source": [
        "!pip install google-cloud-translate"
      ],
      "metadata": {
        "id": "h_KwPMuzGDkj"
      },
      "id": "h_KwPMuzGDkj",
      "execution_count": null,
      "outputs": []
    },
    {
      "cell_type": "markdown",
      "source": [
        "## Translate without Glossary"
      ],
      "metadata": {
        "id": "DloGAbEnWPWB"
      },
      "id": "DloGAbEnWPWB"
    },
    {
      "cell_type": "markdown",
      "source": [
        "### Translate with Cloud Translation API\n",
        "\n",
        "There are 2 generally used models:\n",
        "1. Neural machine translation (NMT): `general/nmt`.\n",
        "2. Translation LLM: `general/translation-llm`."
      ],
      "metadata": {
        "id": "jmY3wY4fXLVy"
      },
      "id": "jmY3wY4fXLVy"
    },
    {
      "cell_type": "code",
      "id": "WEC00U8BOV2znslj92v2OVvr",
      "metadata": {
        "tags": [],
        "id": "WEC00U8BOV2znslj92v2OVvr"
      },
      "source": [
        "import os\n",
        "from google.cloud import translate_v3\n",
        "\n",
        "PROJECT_ID = os.environ.get(\"GOOGLE_CLOUD_PROJECT\")\n",
        "\n",
        "\n",
        "def translate_text(\n",
        "    text: str = \"sample text\",\n",
        "    source_language_code: str = \"en\",\n",
        "    target_language_code: str = \"id\",\n",
        "    model_id: str = \"general/translation-llm\",\n",
        "):\n",
        "    \"\"\"Translating Text with Cloud Translation API.\n",
        "    Args:\n",
        "        text: The content to translate.\n",
        "        source_language_code: The language code for the source text.\n",
        "            E.g. \"en\" for English, \"es\" for Spanish, etc.\n",
        "        target_language_code: The language code for the translation.\n",
        "            E.g. \"id\" for Indonesian, \"es\" for Spanish, etc.\n",
        "            Available languages: https://cloud.google.com/translate/docs/languages#neural_machine_translation_model\n",
        "        model_id: The model to use for translation.\n",
        "    \"\"\"\n",
        "\n",
        "    client = translate_v3.TranslationServiceClient()\n",
        "    parent = f\"projects/{PROJECT_ID}/locations/us-central1\"\n",
        "    model_path = f\"{parent}/models/{model_id}\"\n",
        "\n",
        "    # Translate text from English to chosen language\n",
        "    # Supported mime types: # https://cloud.google.com/translate/docs/supported-formats\n",
        "    response = client.translate_text(\n",
        "        contents=[text],\n",
        "        target_language_code=target_language_code,\n",
        "        parent=parent,\n",
        "        mime_type=\"text/plain\",\n",
        "        source_language_code=source_language_code,\n",
        "        model=model_path,\n",
        "    )\n",
        "\n",
        "    # Display the translation for each input text provided\n",
        "    for translation in response.translations:\n",
        "        print(f\"{translation.translated_text}\")\n",
        "\n",
        "    return response"
      ],
      "execution_count": null,
      "outputs": []
    },
    {
      "cell_type": "markdown",
      "source": [
        "### Translate with Gemini API"
      ],
      "metadata": {
        "id": "5-1VtgPLWwu6"
      },
      "id": "5-1VtgPLWwu6"
    },
    {
      "cell_type": "code",
      "source": [
        "import base64\n",
        "import vertexai\n",
        "from vertexai.generative_models import GenerativeModel, Part, SafetySetting\n",
        "\n",
        "PROJECT_ID = os.environ.get(\"GOOGLE_CLOUD_PROJECT\")\n",
        "\n",
        "generation_config = {\n",
        "    \"candidate_count\": 1,\n",
        "    \"max_output_tokens\": 8192,\n",
        "    \"temperature\": 0,\n",
        "    \"top_p\": 0.95,\n",
        "    \"top_k\": 1,\n",
        "}\n",
        "\n",
        "safety_settings = [\n",
        "    SafetySetting(\n",
        "        category=SafetySetting.HarmCategory.HARM_CATEGORY_HATE_SPEECH,\n",
        "        threshold=SafetySetting.HarmBlockThreshold.BLOCK_MEDIUM_AND_ABOVE\n",
        "    ),\n",
        "    SafetySetting(\n",
        "        category=SafetySetting.HarmCategory.HARM_CATEGORY_DANGEROUS_CONTENT,\n",
        "        threshold=SafetySetting.HarmBlockThreshold.BLOCK_MEDIUM_AND_ABOVE\n",
        "    ),\n",
        "    SafetySetting(\n",
        "        category=SafetySetting.HarmCategory.HARM_CATEGORY_SEXUALLY_EXPLICIT,\n",
        "        threshold=SafetySetting.HarmBlockThreshold.BLOCK_MEDIUM_AND_ABOVE\n",
        "    ),\n",
        "    SafetySetting(\n",
        "        category=SafetySetting.HarmCategory.HARM_CATEGORY_HARASSMENT,\n",
        "        threshold=SafetySetting.HarmBlockThreshold.BLOCK_MEDIUM_AND_ABOVE\n",
        "    ),\n",
        "]\n",
        "\n",
        "def translate_text_gemini(\n",
        "    text: str = \"sample text\",\n",
        "    language_code: str = \"id\",\n",
        "    model_id: str = \"gemini-1.5-flash-002\",\n",
        "):\n",
        "    \"\"\"Translating Text with Gemini model.\n",
        "    Args:\n",
        "        text: The content to translate.\n",
        "        language_code: The language code for the translation.\n",
        "            E.g. \"id\" for Indonesian, \"es\" for Spanish, etc.\n",
        "        model_id: The Gemini model to use for translation.\n",
        "    \"\"\"\n",
        "\n",
        "    vertexai.init(project=PROJECT_ID, location=\"us-central1\")\n",
        "    model = GenerativeModel(model_id)\n",
        "\n",
        "    text1 = f\"\"\"\n",
        "    You are an expert Translator.\n",
        "    You are tasked to translate documents from en to {language_code}.\n",
        "    Please provide an accurate translation of this document and return translation text only: {text}\"\"\"\n",
        "\n",
        "    responses = model.generate_content(\n",
        "        [text1],\n",
        "        generation_config=generation_config,\n",
        "        safety_settings=safety_settings,\n",
        "    )\n",
        "\n",
        "    print(responses.text.strip())\n",
        "    return responses.text"
      ],
      "metadata": {
        "id": "e5yGlAg-Nsgu"
      },
      "id": "e5yGlAg-Nsgu",
      "execution_count": null,
      "outputs": []
    },
    {
      "cell_type": "markdown",
      "source": [
        "### Try Translation"
      ],
      "metadata": {
        "id": "l7ronO5jW1af"
      },
      "id": "l7ronO5jW1af"
    },
    {
      "cell_type": "code",
      "source": [
        "# translate_text(\"youth\", \"en\", 'id', 'general/nmt')\n",
        "# translate_text(\"malang\", \"id\", 'en', 'general/nmt')\n",
        "translate_text(\"dewasa\", \"id\", 'en', 'general/nmt')"
      ],
      "metadata": {
        "id": "iHzN2UP_GWEt"
      },
      "id": "iHzN2UP_GWEt",
      "execution_count": null,
      "outputs": []
    },
    {
      "cell_type": "markdown",
      "source": [
        "## Translate with Glossary"
      ],
      "metadata": {
        "id": "FSolFTX1Xagm"
      },
      "id": "FSolFTX1Xagm"
    },
    {
      "cell_type": "markdown",
      "source": [
        "### Create Glossary"
      ],
      "metadata": {
        "id": "59NOu6aBXcdx"
      },
      "id": "59NOu6aBXcdx"
    },
    {
      "cell_type": "code",
      "source": [
        "from google.cloud import translate_v3 as translate\n",
        "\n",
        "PROJECT_ID = os.environ.get(\"GOOGLE_CLOUD_PROJECT\")\n",
        "\n",
        "def create_glossary(\n",
        "    input_uri: str = \"YOUR_INPUT_URI\",\n",
        "    glossary_id: str = \"YOUR_GLOSSARY_ID\",\n",
        "    timeout: int = 180,\n",
        ") -> translate.Glossary:\n",
        "    \"\"\"\n",
        "    Create a equivalent term sets glossary. Glossary can be words or\n",
        "    short phrases (usually fewer than five words).\n",
        "    https://cloud.google.com/translate/docs/advanced/glossary#format-glossary\n",
        "    Args:\n",
        "        input_uri: The gsutil URI of the glossary file (usually in CSV) stored in Google Cloud Storage.\n",
        "        glossary_id: The ID of the glossary to create.\n",
        "        timeout: The polling timeout.\n",
        "    \"\"\"\n",
        "    client = translate.TranslationServiceClient()\n",
        "\n",
        "    # Supported language codes: https://cloud.google.com/translate/docs/languages\n",
        "    source_lang_code = \"id\"\n",
        "    target_lang_code = \"en\"\n",
        "    location = \"us-central1\"  # The location of the glossary\n",
        "\n",
        "    name = client.glossary_path(PROJECT_ID, location, glossary_id)\n",
        "    language_codes_set = translate.types.Glossary.LanguageCodesSet(\n",
        "        language_codes=[source_lang_code, target_lang_code]\n",
        "    )\n",
        "\n",
        "    gcs_source = translate.types.GcsSource(input_uri=input_uri)\n",
        "\n",
        "    input_config = translate.types.GlossaryInputConfig(gcs_source=gcs_source)\n",
        "\n",
        "    glossary = translate.types.Glossary(\n",
        "        name=name, language_codes_set=language_codes_set, input_config=input_config\n",
        "    )\n",
        "\n",
        "    parent = f\"projects/{PROJECT_ID}/locations/{location}\"\n",
        "    # glossary is a custom dictionary Translation API uses\n",
        "    # to translate the domain-specific terminology.\n",
        "    operation = client.create_glossary(parent=parent, glossary=glossary)\n",
        "\n",
        "    result = operation.result(timeout)\n",
        "    print(f\"Created: {result.name}\")\n",
        "    print(f\"Input Uri: {result.input_config.gcs_source.input_uri}\")\n",
        "\n",
        "    return result"
      ],
      "metadata": {
        "id": "eiQuMZIJRGT_"
      },
      "id": "eiQuMZIJRGT_",
      "execution_count": null,
      "outputs": []
    },
    {
      "cell_type": "code",
      "source": [
        "# Create the glossary\n",
        "create_glossary(\n",
        "    input_uri=\"gs://your-input-uri.csv\",\n",
        "    glossary_id=\"YOUR_GLOSSARY_ID\",\n",
        ")"
      ],
      "metadata": {
        "id": "wF4aZ2ERUHJF"
      },
      "id": "wF4aZ2ERUHJF",
      "execution_count": null,
      "outputs": []
    },
    {
      "cell_type": "markdown",
      "source": [
        "### List Glossaries"
      ],
      "metadata": {
        "id": "XsxvBNt5XfKY"
      },
      "id": "XsxvBNt5XfKY"
    },
    {
      "cell_type": "code",
      "source": [
        "from google.cloud import translate\n",
        "\n",
        "PROJECT_ID = os.environ.get(\"GOOGLE_CLOUD_PROJECT\")\n",
        "\n",
        "def list_glossaries() -> translate.Glossary:\n",
        "    \"\"\"List Glossaries\"\"\"\n",
        "    client = translate.TranslationServiceClient()\n",
        "\n",
        "    location = \"us-central1\"\n",
        "    parent = f\"projects/{PROJECT_ID}/locations/{location}\"\n",
        "\n",
        "    # Iterate over all results\n",
        "    glossaries = client.list_glossaries(parent=parent)\n",
        "    for glossary in glossaries:\n",
        "        print(f\"Name: {glossary.name}\")\n",
        "        print(f\"Entry count: {glossary.entry_count}\")\n",
        "        print(f\"Input uri: {glossary.input_config.gcs_source.input_uri}\")\n",
        "\n",
        "        # Note: You can create a glossary using one of two modes:\n",
        "        # language_code_set or language_pair. When listing the information for\n",
        "        # a glossary, you can only get information for the mode you used\n",
        "        # when creating the glossary.\n",
        "        for language_code in glossary.language_codes_set.language_codes:\n",
        "            print(f\"Language code: {language_code}\")\n",
        "\n",
        "    return glossaries"
      ],
      "metadata": {
        "id": "3Y-QCcAmUSr4"
      },
      "id": "3Y-QCcAmUSr4",
      "execution_count": null,
      "outputs": []
    },
    {
      "cell_type": "code",
      "source": [
        "list_glossaries()"
      ],
      "metadata": {
        "id": "rVL8JkR2Uigi"
      },
      "id": "rVL8JkR2Uigi",
      "execution_count": null,
      "outputs": []
    },
    {
      "cell_type": "markdown",
      "source": [
        "### Create Translation Function"
      ],
      "metadata": {
        "id": "qgzyXEXAXxpB"
      },
      "id": "qgzyXEXAXxpB"
    },
    {
      "cell_type": "code",
      "source": [
        "from google.cloud import translate\n",
        "\n",
        "PROJECT_ID = os.environ.get(\"GOOGLE_CLOUD_PROJECT\")\n",
        "\n",
        "def translate_text_with_glossary(\n",
        "    text: str = \"sample text\",\n",
        "    glossary_id: str = \"YOUR_GLOSSARY_ID\",\n",
        ") -> translate.TranslateTextResponse:\n",
        "    \"\"\"Translates a given text using a glossary.\n",
        "\n",
        "    Args:\n",
        "        text: The text to translate.\n",
        "        glossary_id: The ID of the glossary to use.\n",
        "\n",
        "    Returns:\n",
        "        The translated text.\n",
        "    \"\"\"\n",
        "    client = translate.TranslationServiceClient()\n",
        "    location = \"us-central1\"\n",
        "    parent = f\"projects/{PROJECT_ID}/locations/{location}\"\n",
        "\n",
        "    glossary = client.glossary_path(\n",
        "        PROJECT_ID, \"us-central1\", glossary_id  # The location of the glossary\n",
        "    )\n",
        "\n",
        "    glossary_config = translate.TranslateTextGlossaryConfig(glossary=glossary)\n",
        "\n",
        "    # Supported language codes: https://cloud.google.com/translate/docs/languages\n",
        "    response = client.translate_text(\n",
        "        request={\n",
        "            \"contents\": [text],\n",
        "            \"target_language_code\": \"en\",\n",
        "            \"source_language_code\": \"id\",\n",
        "            \"parent\": parent,\n",
        "            \"glossary_config\": glossary_config,\n",
        "        }\n",
        "    )\n",
        "\n",
        "    # Print translations\n",
        "    for translation in response.glossary_translations:\n",
        "        print(f\"{translation.translated_text}\")"
      ],
      "metadata": {
        "id": "JVnJuJqZUqpA"
      },
      "id": "JVnJuJqZUqpA",
      "execution_count": null,
      "outputs": []
    },
    {
      "cell_type": "markdown",
      "source": [
        "## Compare Translations"
      ],
      "metadata": {
        "id": "1U92-mSWMGt7"
      },
      "id": "1U92-mSWMGt7"
    },
    {
      "cell_type": "code",
      "source": [
        "# mature\n",
        "translate_text(\"dewasa\", source_language_code=\"id\", target_language_code=\"en\", model_id=\"general/nmt\")\n",
        "print(\"===================\")\n",
        "# adult\n",
        "translate_text_with_glossary(\"dewasa\", glossary_id=\"YOUR_GLOSSARY_ID\")"
      ],
      "metadata": {
        "id": "DoZFRPd3U53d"
      },
      "id": "DoZFRPd3U53d",
      "execution_count": null,
      "outputs": []
    },
    {
      "cell_type": "code",
      "source": [
        "# Poor\n",
        "translate_text(\"Malang\", source_language_code=\"id\", target_language_code=\"en\", model_id=\"general/nmt\")\n",
        "print(\"===================\")\n",
        "# Malang\n",
        "translate_text_with_glossary(\"Malang\", glossary_id=\"YOUR_GLOSSARY_ID\")"
      ],
      "metadata": {
        "id": "HF9BZ4AXV8fU"
      },
      "id": "HF9BZ4AXV8fU",
      "execution_count": null,
      "outputs": []
    },
    {
      "cell_type": "code",
      "source": [
        "# Stone City\n",
        "translate_text(\"Kota Batu\", source_language_code=\"id\", target_language_code=\"en\", model_id=\"general/nmt\")\n",
        "print(\"===================\")\n",
        "# Batu City\n",
        "translate_text_with_glossary(\"Kota Batu\", glossary_id=\"YOUR_GLOSSARY_ID\")\n",
        "# rocks\n",
        "translate_text_with_glossary(\"bebatuan\", glossary_id=\"YOUR_GLOSSARY_ID\")"
      ],
      "metadata": {
        "id": "_RBrgly_qUkX"
      },
      "id": "_RBrgly_qUkX",
      "execution_count": null,
      "outputs": []
    }
  ],
  "metadata": {
    "kernelspec": {
      "display_name": "Python 3",
      "language": "python",
      "name": "python3"
    },
    "language_info": {
      "codemirror_mode": {
        "name": "ipython",
        "version": 3
      },
      "file_extension": ".py",
      "mimetype": "text/x-python",
      "name": "python",
      "nbconvert_exporter": "python",
      "pygments_lexer": "ipython3",
      "version": "3.10.10"
    },
    "colab": {
      "provenance": [],
      "toc_visible": true
    }
  },
  "nbformat": 4,
  "nbformat_minor": 5
}